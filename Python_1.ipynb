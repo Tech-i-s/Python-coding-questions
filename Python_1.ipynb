{
  "nbformat": 4,
  "nbformat_minor": 0,
  "metadata": {
    "colab": {
      "name": "Python_1.ipynb",
      "provenance": [],
      "collapsed_sections": [],
      "include_colab_link": true
    },
    "kernelspec": {
      "name": "python3",
      "display_name": "Python 3"
    },
    "language_info": {
      "name": "python"
    }
  },
  "cells": [
    {
      "cell_type": "markdown",
      "metadata": {
        "id": "view-in-github",
        "colab_type": "text"
      },
      "source": [
        "<a href=\"https://colab.research.google.com/github/Tech-i-s/Python-coding-questions/blob/main/Python_1.ipynb\" target=\"_parent\"><img src=\"https://colab.research.google.com/assets/colab-badge.svg\" alt=\"Open In Colab\"/></a>"
      ]
    },
    {
      "cell_type": "markdown",
      "source": [
        "Given an array of ints, return True if the array contains a 2 next to a 2 somewhere.\n",
        "\n",
        "\n",
        "has22([1, 2, 2]) → True\n",
        "has22([1, 2, 1, 2]) → False\n",
        "has22([2, 1, 2]) → False"
      ],
      "metadata": {
        "id": "Abuz6wDCwGz3"
      }
    },
    {
      "cell_type": "code",
      "execution_count": null,
      "metadata": {
        "id": "QvIxVXTgwEix"
      },
      "outputs": [],
      "source": [
        "def has22(nums):\n",
        "    for i in range(len(nums) - 1):\n",
        "        if nums[i] == 2 and nums[i + 1] == 2:\n",
        "            return True\n",
        "    return False"
      ]
    },
    {
      "cell_type": "code",
      "source": [
        "has22([2,1,2])"
      ],
      "metadata": {
        "colab": {
          "base_uri": "https://localhost:8080/"
        },
        "id": "0_dFwrxKwVLB",
        "outputId": "ea483b88-15de-4a1e-c7b4-d3e64c565e8f"
      },
      "execution_count": null,
      "outputs": [
        {
          "output_type": "execute_result",
          "data": {
            "text/plain": [
              "False"
            ]
          },
          "metadata": {},
          "execution_count": 3
        }
      ]
    },
    {
      "cell_type": "markdown",
      "source": [
        "\n",
        "Return the sum of the numbers in the array, except ignore sections of numbers starting with a 6 and extending to the next 7 (every 6 will be followed by at least one 7). Return 0 for no numbers.\n",
        "\n",
        "\n",
        "sum67([1, 2, 2]) → 5\n",
        "sum67([1, 2, 2, 6, 99, 99, 7]) → 5\n",
        "sum67([1, 1, 6, 7, 2]) → 4"
      ],
      "metadata": {
        "id": "7bE3MF_kwJta"
      }
    },
    {
      "cell_type": "code",
      "source": [
        "def sum67(nums):\n",
        "  ji=[]\n",
        "  for i in nums:\n",
        "    if i<6:\n",
        "      ji.append(i)\n",
        "  return sum(ji)"
      ],
      "metadata": {
        "id": "HPN8VFI7yiq-"
      },
      "execution_count": null,
      "outputs": []
    },
    {
      "cell_type": "code",
      "source": [
        "sum67([1,2,4,5,33,35])"
      ],
      "metadata": {
        "colab": {
          "base_uri": "https://localhost:8080/"
        },
        "id": "Dj_D01yIyli7",
        "outputId": "5d561b92-b9ae-449c-fb1e-569d3f9fec9b"
      },
      "execution_count": null,
      "outputs": [
        {
          "output_type": "execute_result",
          "data": {
            "text/plain": [
              "12"
            ]
          },
          "metadata": {},
          "execution_count": 6
        }
      ]
    },
    {
      "cell_type": "markdown",
      "source": [
        "\n",
        "Return the number of even ints in the given array. Note: the % \"mod\" operator computes the remainder, e.g. 5 % 2 is 1.\n",
        "\n",
        "\n",
        "count_evens([2, 1, 2, 3, 4]) → 3\n",
        "count_evens([2, 2, 0]) → 3\n",
        "count_evens([1, 3, 5]) → 0"
      ],
      "metadata": {
        "id": "nnGI4N5XzUWs"
      }
    },
    {
      "cell_type": "code",
      "source": [
        "def count_evens(nums):\n",
        "  shi=[]\n",
        "  for i in nums:\n",
        "    if i%2==0:\n",
        "      shi.append(i)\n",
        "  return len(shi) "
      ],
      "metadata": {
        "id": "ryU0kNVuyp42"
      },
      "execution_count": null,
      "outputs": []
    },
    {
      "cell_type": "code",
      "source": [
        "count_evens([2,3,1,4,24,2])"
      ],
      "metadata": {
        "colab": {
          "base_uri": "https://localhost:8080/"
        },
        "id": "W81xihQozaNd",
        "outputId": "2f37909d-1e06-49a9-f836-e197d80a039e"
      },
      "execution_count": null,
      "outputs": [
        {
          "output_type": "execute_result",
          "data": {
            "text/plain": [
              "4"
            ]
          },
          "metadata": {},
          "execution_count": 8
        }
      ]
    },
    {
      "cell_type": "markdown",
      "source": [
        "\n",
        "Given a string, return a string where for every char in the original, there are two chars.\n",
        "\n",
        "\n",
        "double_char('The') → 'TThhee'\n",
        "double_char('AAbb') → 'AAAAbbbb'\n",
        "double_char('Hi-There') → 'HHii--TThheerree'"
      ],
      "metadata": {
        "id": "b4DIT0n90Owf"
      }
    },
    {
      "cell_type": "code",
      "source": [
        "def double_char(str):\n",
        "  \n",
        "  result=\"\"\n",
        "  for char in str:\n",
        "    result = result + char*2\n",
        "    \n",
        "  return result "
      ],
      "metadata": {
        "id": "w9Ia74ifzdhL"
      },
      "execution_count": null,
      "outputs": []
    },
    {
      "cell_type": "code",
      "source": [
        "double_char('The')"
      ],
      "metadata": {
        "colab": {
          "base_uri": "https://localhost:8080/",
          "height": 35
        },
        "id": "BEky54_H0R5j",
        "outputId": "7e87c473-e155-4637-bb5f-676d4123c41f"
      },
      "execution_count": null,
      "outputs": [
        {
          "output_type": "execute_result",
          "data": {
            "application/vnd.google.colaboratory.intrinsic+json": {
              "type": "string"
            },
            "text/plain": [
              "'TThhee'"
            ]
          },
          "metadata": {},
          "execution_count": 2
        }
      ]
    },
    {
      "cell_type": "markdown",
      "source": [
        "Given an array of ints, return True if the sequence of numbers 1, 2, 3 appears in the array somewhere.\n",
        "\n",
        "\n",
        "array123([1, 1, 2, 3, 1]) → True\n",
        "array123([1, 1, 2, 4, 1]) → False\n",
        "array123([1, 1, 2, 1, 2, 3]) → True"
      ],
      "metadata": {
        "id": "C5K8i1er03oS"
      }
    },
    {
      "cell_type": "code",
      "source": [
        "def array123(nums):\n",
        "  for i in range(len(nums)-2):\n",
        "    if nums[i]==1 and nums[i+1]==2 and nums[i+2]==3:\n",
        "      return True\n",
        "    return False"
      ],
      "metadata": {
        "id": "2nnWbLDX0VQq"
      },
      "execution_count": null,
      "outputs": []
    },
    {
      "cell_type": "markdown",
      "source": [
        "10, 20 more =30 basic\n",
        "10 oops \n",
        "10 ds and algos"
      ],
      "metadata": {
        "id": "zcyQZ7n2LjKt"
      }
    },
    {
      "cell_type": "markdown",
      "source": [
        "data structures and algo - each topic 1 ques each"
      ],
      "metadata": {
        "id": "CT3U8Q85Kr4N"
      }
    },
    {
      "cell_type": "code",
      "source": [
        "def sum67(nums):\n",
        "  total = 0\n",
        "  skip = False\n",
        "  for i in range(len(nums)):\n",
        "    if nums[i] == 6:\n",
        "      skip =True\n",
        "    elif nums[i]==7 and skip:\n",
        "      skip = False\n",
        "    elif not skip:\n",
        "      total += nums[i]\n",
        "  return total\n",
        "\n",
        "sum67([1,1,6,7,2])\n",
        "      "
      ],
      "metadata": {
        "id": "BZdgIl6a068N",
        "colab": {
          "base_uri": "https://localhost:8080/"
        },
        "outputId": "1b4223f3-df28-4254-de63-c45a76f5e0b1"
      },
      "execution_count": null,
      "outputs": [
        {
          "output_type": "execute_result",
          "data": {
            "text/plain": [
              "4"
            ]
          },
          "metadata": {},
          "execution_count": 2
        }
      ]
    }
  ]
}