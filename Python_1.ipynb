{
  "nbformat": 4,
  "nbformat_minor": 0,
  "metadata": {
    "colab": {
      "name": "Python_1.ipynb",
      "provenance": [],
      "collapsed_sections": [],
      "include_colab_link": true
    },
    "kernelspec": {
      "name": "python3",
      "display_name": "Python 3"
    },
    "language_info": {
      "name": "python"
    }
  },
  "cells": [
    {
      "cell_type": "markdown",
      "metadata": {
        "id": "view-in-github",
        "colab_type": "text"
      },
      "source": [
        "<a href=\"https://colab.research.google.com/github/Tech-i-s/Python-coding-questions/blob/main/Python_1.ipynb\" target=\"_parent\"><img src=\"https://colab.research.google.com/assets/colab-badge.svg\" alt=\"Open In Colab\"/></a>"
      ]
    },
    {
      "cell_type": "markdown",
      "source": [
        "Q1. Given an array of ints, return True if the array contains a 2 next to a 2 somewhere.\n",
        "\n",
        "\n",
        "has22([1, 2, 2]) → True\n",
        "has22([1, 2, 1, 2]) → False\n",
        "has22([2, 1, 2]) → False"
      ],
      "metadata": {
        "id": "Abuz6wDCwGz3"
      }
    },
    {
      "cell_type": "code",
      "execution_count": null,
      "metadata": {
        "id": "QvIxVXTgwEix"
      },
      "outputs": [],
      "source": [
        "def has22(nums):\n",
        "    for i in range(len(nums) - 1):\n",
        "        if nums[i] == 2 and nums[i + 1] == 2:\n",
        "            return True\n",
        "    return False"
      ]
    },
    {
      "cell_type": "markdown",
      "source": [
        ""
      ],
      "metadata": {
        "id": "HVf3jTYSIFnI"
      }
    },
    {
      "cell_type": "code",
      "source": [
        "has22([2,1,2])"
      ],
      "metadata": {
        "colab": {
          "base_uri": "https://localhost:8080/"
        },
        "id": "0_dFwrxKwVLB",
        "outputId": "ea483b88-15de-4a1e-c7b4-d3e64c565e8f"
      },
      "execution_count": null,
      "outputs": [
        {
          "output_type": "execute_result",
          "data": {
            "text/plain": [
              "False"
            ]
          },
          "metadata": {},
          "execution_count": 3
        }
      ]
    },
    {
      "cell_type": "markdown",
      "source": [
        "Q2. Return the sum of the numbers in the array, except ignore sections of numbers starting with a 6 and extending to the next 7 (every 6 will be followed by at least one 7). Return 0 for no numbers.\n",
        "\n",
        "\n",
        "sum67([1, 2, 2]) → 5\n",
        "sum67([1, 2, 2, 6, 99, 99, 7]) → 5\n",
        "sum67([1, 1, 6, 7, 2]) → 4"
      ],
      "metadata": {
        "id": "7bE3MF_kwJta"
      }
    },
    {
      "cell_type": "code",
      "source": [
        "def sum67(nums):\n",
        "  ji=[]\n",
        "  for i in nums:\n",
        "    if i<6:\n",
        "      ji.append(i)\n",
        "  return sum(ji)"
      ],
      "metadata": {
        "id": "HPN8VFI7yiq-"
      },
      "execution_count": null,
      "outputs": []
    },
    {
      "cell_type": "code",
      "source": [
        "sum67([1,2,4,5,33,35])"
      ],
      "metadata": {
        "colab": {
          "base_uri": "https://localhost:8080/"
        },
        "id": "Dj_D01yIyli7",
        "outputId": "5d561b92-b9ae-449c-fb1e-569d3f9fec9b"
      },
      "execution_count": null,
      "outputs": [
        {
          "output_type": "execute_result",
          "data": {
            "text/plain": [
              "12"
            ]
          },
          "metadata": {},
          "execution_count": 6
        }
      ]
    },
    {
      "cell_type": "markdown",
      "source": [
        "Q3. Return the number of even ints in the given array. Note: the % \"mod\" operator computes the remainder, e.g. 5 % 2 is 1.\n",
        "\n",
        "\n",
        "count_evens([2, 1, 2, 3, 4]) → 3\n",
        "count_evens([2, 2, 0]) → 3\n",
        "count_evens([1, 3, 5]) → 0"
      ],
      "metadata": {
        "id": "nnGI4N5XzUWs"
      }
    },
    {
      "cell_type": "code",
      "source": [
        "def count_evens(nums):\n",
        "  shi=[]\n",
        "  for i in nums:\n",
        "    if i%2==0:\n",
        "      shi.append(i)\n",
        "  return len(shi) "
      ],
      "metadata": {
        "id": "ryU0kNVuyp42"
      },
      "execution_count": null,
      "outputs": []
    },
    {
      "cell_type": "code",
      "source": [
        "count_evens([2,3,1,4,24,2])"
      ],
      "metadata": {
        "colab": {
          "base_uri": "https://localhost:8080/"
        },
        "id": "W81xihQozaNd",
        "outputId": "2f37909d-1e06-49a9-f836-e197d80a039e"
      },
      "execution_count": null,
      "outputs": [
        {
          "output_type": "execute_result",
          "data": {
            "text/plain": [
              "4"
            ]
          },
          "metadata": {},
          "execution_count": 8
        }
      ]
    },
    {
      "cell_type": "markdown",
      "source": [
        "\n",
        "Q4.Given a string, return a string where for every char in the original, there are two chars.\n",
        "\n",
        "\n",
        "double_char('The') → 'TThhee'\n",
        "double_char('AAbb') → 'AAAAbbbb'\n",
        "double_char('Hi-There') → 'HHii--TThheerree'"
      ],
      "metadata": {
        "id": "b4DIT0n90Owf"
      }
    },
    {
      "cell_type": "code",
      "source": [
        "def double_char(str):\n",
        "  \n",
        "  result=\"\"\n",
        "  for char in str:\n",
        "    result = result + char*2\n",
        "    \n",
        "  return result "
      ],
      "metadata": {
        "id": "w9Ia74ifzdhL"
      },
      "execution_count": null,
      "outputs": []
    },
    {
      "cell_type": "code",
      "source": [
        "double_char('The')"
      ],
      "metadata": {
        "colab": {
          "base_uri": "https://localhost:8080/",
          "height": 35
        },
        "id": "BEky54_H0R5j",
        "outputId": "7e87c473-e155-4637-bb5f-676d4123c41f"
      },
      "execution_count": null,
      "outputs": [
        {
          "output_type": "execute_result",
          "data": {
            "application/vnd.google.colaboratory.intrinsic+json": {
              "type": "string"
            },
            "text/plain": [
              "'TThhee'"
            ]
          },
          "metadata": {},
          "execution_count": 2
        }
      ]
    },
    {
      "cell_type": "markdown",
      "source": [
        "Q5. Given an array of ints, return True if the sequence of numbers 1, 2, 3 appears in the array somewhere.\n",
        "\n",
        "\n",
        "array123([1, 1, 2, 3, 1]) → True\n",
        "array123([1, 1, 2, 4, 1]) → False\n",
        "array123([1, 1, 2, 1, 2, 3]) → True"
      ],
      "metadata": {
        "id": "C5K8i1er03oS"
      }
    },
    {
      "cell_type": "code",
      "source": [
        "def array123(nums):\n",
        "  for i in range(len(nums)-2):\n",
        "    if nums[i]==1 and nums[i+1]==2 and nums[i+2]==3:\n",
        "      return True\n",
        "    return False"
      ],
      "metadata": {
        "id": "2nnWbLDX0VQq"
      },
      "execution_count": 1,
      "outputs": []
    },
    {
      "cell_type": "code",
      "source": [
        "array123([1,1,2,3,1])"
      ],
      "metadata": {
        "colab": {
          "base_uri": "https://localhost:8080/"
        },
        "id": "z5c5sNjIIht0",
        "outputId": "965c4878-096c-4eb3-a01c-6aefa4eb3ea6"
      },
      "execution_count": 2,
      "outputs": [
        {
          "output_type": "execute_result",
          "data": {
            "text/plain": [
              "False"
            ]
          },
          "metadata": {},
          "execution_count": 2
        }
      ]
    },
    {
      "cell_type": "markdown",
      "source": [
        "Q6. Given 2 strings, a and b, return a string of the form short+long+short, with the shorter string on the outside and the longer string on the inside. The strings will not be the same length, but they may be empty (length 0).\n",
        "\n",
        "combo_string('Hello', 'hi') → 'hiHellohi' combo_string('hi', 'Hello') → 'hiHellohi' combo_string('aaa', 'b') → 'baaab'"
      ],
      "metadata": {
        "id": "AAqqh0NyIt4g"
      }
    },
    {
      "cell_type": "code",
      "source": [
        "def combo_string(a, b):\n",
        "  if len(a)<len(b):\n",
        "    return a+b+a\n",
        "  return b+a+b \n",
        "combo_string('Hey','Heeyyy')  "
      ],
      "metadata": {
        "colab": {
          "base_uri": "https://localhost:8080/",
          "height": 35
        },
        "id": "mwOCmsXUIyTh",
        "outputId": "0e4cc095-fac3-40ce-957a-9c73b0e886a8"
      },
      "execution_count": 3,
      "outputs": [
        {
          "output_type": "execute_result",
          "data": {
            "application/vnd.google.colaboratory.intrinsic+json": {
              "type": "string"
            },
            "text/plain": [
              "'HeyHeeyyyHey'"
            ]
          },
          "metadata": {},
          "execution_count": 3
        }
      ]
    },
    {
      "cell_type": "markdown",
      "source": [
        "Q7. Given a string of even length, return the first half. So the string \"WooHoo\" yields \"Woo\".\n",
        "\n",
        "first_half('WooHoo') → 'Woo' first_half('HelloThere') → 'Hello' first_half('abcdef') → 'abc'"
      ],
      "metadata": {
        "id": "kMSBmJ4XI6gY"
      }
    },
    {
      "cell_type": "code",
      "source": [
        "def first_half(str):\n",
        "  jinx=len(str)//2\n",
        "  return str[:jinx]"
      ],
      "metadata": {
        "id": "YcfA-jR0JAbM"
      },
      "execution_count": 4,
      "outputs": []
    },
    {
      "cell_type": "code",
      "source": [
        "first_half('Heyyyy')"
      ],
      "metadata": {
        "colab": {
          "base_uri": "https://localhost:8080/",
          "height": 35
        },
        "id": "t89s-iVBJGOW",
        "outputId": "5098d1fe-7847-498c-be5f-7125b4eeb92c"
      },
      "execution_count": 5,
      "outputs": [
        {
          "output_type": "execute_result",
          "data": {
            "application/vnd.google.colaboratory.intrinsic+json": {
              "type": "string"
            },
            "text/plain": [
              "'Hey'"
            ]
          },
          "metadata": {},
          "execution_count": 5
        }
      ]
    },
    {
      "cell_type": "markdown",
      "source": [
        "Q8. Given 2 strings, return their concatenation, except omit the first char of each. The strings will be at least length 1."
      ],
      "metadata": {
        "id": "Dt67-G9rJNE3"
      }
    },
    {
      "cell_type": "code",
      "source": [
        "def non_start(a, b):\n",
        "  return a[1:]+b[1:]\n",
        "non_start('Hey','Hello')"
      ],
      "metadata": {
        "colab": {
          "base_uri": "https://localhost:8080/",
          "height": 35
        },
        "id": "oRan1MFGJTdE",
        "outputId": "51f4e01c-62dd-4bcc-e7da-0547618c7eb2"
      },
      "execution_count": 6,
      "outputs": [
        {
          "output_type": "execute_result",
          "data": {
            "application/vnd.google.colaboratory.intrinsic+json": {
              "type": "string"
            },
            "text/plain": [
              "'eyello'"
            ]
          },
          "metadata": {},
          "execution_count": 6
        }
      ]
    },
    {
      "cell_type": "markdown",
      "source": [
        "Q9. Given a list of numbers, write a Python program to count Even and Odd numbers in a List.\n",
        "\n",
        "Example:\n",
        "\n",
        "Input: list1 = [2, 7, 5, 64, 14] Output: Even = 3, odd = 2\n",
        "\n",
        "Input: list2 = [12, 14, 95, 3] Output: Even = 2, odd = 2"
      ],
      "metadata": {
        "id": "5Bbkl1p0JfSx"
      }
    },
    {
      "cell_type": "code",
      "source": [
        "# Python program to count Even\n",
        "# and Odd numbers in a List\n",
        "  \n",
        "# list of numbers\n",
        "list1 = []\n",
        "n=int(input('Enter number of elements: '))\n",
        "for i in range(0,n):\n",
        "  ele=int(input())\n",
        "  list1.append(ele)\n",
        "even_count, odd_count = 0, 0\n",
        "  \n",
        "# iterating each number in list\n",
        "for num in list1:\n",
        "      \n",
        "    # checking condition\n",
        "    if num % 2 == 0:\n",
        "        even_count += 1\n",
        "  \n",
        "    else:\n",
        "        odd_count += 1\n",
        "          \n",
        "print(\"Even numbers in the list: \", even_count)\n",
        "print(\"Odd numbers in the list: \", odd_count)"
      ],
      "metadata": {
        "colab": {
          "base_uri": "https://localhost:8080/"
        },
        "id": "p5ZNFjefJiIY",
        "outputId": "132bf721-a70a-4c56-d782-32e5ec65df8c"
      },
      "execution_count": 8,
      "outputs": [
        {
          "output_type": "stream",
          "name": "stdout",
          "text": [
            "Enter number of elements: 4\n",
            "2\n",
            "5\n",
            "4\n",
            "5\n",
            "Even numbers in the list:  2\n",
            "Odd numbers in the list:  2\n"
          ]
        }
      ]
    },
    {
      "cell_type": "markdown",
      "source": [
        "Q10. Write a python program to print the following pattern ->\n",
        "1\n",
        "2 2\n",
        "3 3 3\n",
        "4 4 4 4\n",
        "5 5 5 5 5"
      ],
      "metadata": {
        "id": "V7MHgBVtJ6mh"
      }
    },
    {
      "cell_type": "code",
      "source": [
        "for num in range(6):\n",
        "  for i in range(num):\n",
        "    print(num,end=\" \")\n",
        "  print(\"\")"
      ],
      "metadata": {
        "colab": {
          "base_uri": "https://localhost:8080/"
        },
        "id": "axxsVr0ZJ_Oc",
        "outputId": "bbab1331-4587-4ada-8946-df23d5328b96"
      },
      "execution_count": 13,
      "outputs": [
        {
          "output_type": "stream",
          "name": "stdout",
          "text": [
            "\n",
            "1 \n",
            "2 2 \n",
            "3 3 3 \n",
            "4 4 4 4 \n",
            "5 5 5 5 5 \n"
          ]
        }
      ]
    }
  ]
}